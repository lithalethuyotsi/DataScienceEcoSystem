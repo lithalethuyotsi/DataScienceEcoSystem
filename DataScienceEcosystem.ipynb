{
 "cells": [
  {
   "cell_type": "markdown",
   "id": "f4564490-7ad2-471f-865d-fdc8d3c6a142",
   "metadata": {},
   "source": [
    "# Data Science Tools and Ecosystem"
   ]
  },
  {
   "cell_type": "markdown",
   "id": "73f70432-1505-49fc-a2ef-bed9c47d3d49",
   "metadata": {},
   "source": [
    "## In this notebook, Data Science Tools and Ecoysyem are summarized."
   ]
  },
  {
   "cell_type": "markdown",
   "id": "8116581c-2025-4e6a-9c50-3a7828664c95",
   "metadata": {},
   "source": [
    "## **Objectives** \n",
    "- List common libraries used by data scientists\n",
    "- Tabulate common data science tools\n",
    "- Evaluate arithmetic expressions in Python\n",
    "  "
   ]
  },
  {
   "cell_type": "markdown",
   "id": "38ded129-af8f-4df8-88d2-0ae24819bdf3",
   "metadata": {},
   "source": [
    "#### Some of the popular languages that Data Scientist use are:\n",
    "1. Python\n",
    "2. R\n",
    "3. SQL\n",
    "4. Java\n",
    "5. Julia"
   ]
  },
  {
   "cell_type": "markdown",
   "id": "7beb537e-27fc-4d3c-afc2-e3dc096de950",
   "metadata": {},
   "source": [
    "#### Some of the commonly used libraries used by Data Scientists include\n",
    "1. Numpy\n",
    "2. MatplotLib\n",
    "3. PyTorch"
   ]
  },
  {
   "cell_type": "markdown",
   "id": "5abd8465-0a85-414b-806c-c1df76d3532a",
   "metadata": {},
   "source": [
    "|Data Science Tools|\n",
    "|---|\n",
    "|Apache Spark|\n",
    "|---|\n",
    "|Apache Hadoop|\n",
    "|---|\n",
    "|TensorFlow|"
   ]
  },
  {
   "cell_type": "markdown",
   "id": "88f9d81d-8b18-425b-8a6d-9da1e5e70319",
   "metadata": {},
   "source": [
    "### Below are a few examples of evaluating arithmetic expressions in Python\n",
    "#### (3*4)+5\n",
    "#### 2+2-1\n",
    "#### (10/5)+5"
   ]
  },
  {
   "cell_type": "code",
   "execution_count": 27,
   "id": "efa072e7-db9d-4c5d-a5d6-53d2bff3267e",
   "metadata": {},
   "outputs": [
    {
     "data": {
      "text/plain": [
       "17"
      ]
     },
     "execution_count": 27,
     "metadata": {},
     "output_type": "execute_result"
    }
   ],
   "source": [
    "## This a simple arithmetic expression to multiply then add integers\n",
    "(3*4)+5\n"
   ]
  },
  {
   "cell_type": "code",
   "execution_count": 29,
   "id": "2dac6809-953e-4dd9-870d-6c32afb29855",
   "metadata": {},
   "outputs": [
    {
     "data": {
      "text/plain": [
       "3.3333333333333335"
      ]
     },
     "execution_count": 29,
     "metadata": {},
     "output_type": "execute_result"
    }
   ],
   "source": [
    "## This will convert 200 minutes to hours by dividing by 60\n",
    "200/60"
   ]
  },
  {
   "cell_type": "markdown",
   "id": "eb927397-57c0-4368-95eb-1dc32e974f9b",
   "metadata": {},
   "source": [
    "## Author\n",
    "Lithalethu Yotsi"
   ]
  },
  {
   "cell_type": "code",
   "execution_count": null,
   "id": "622fd072-3ec9-478b-9ea5-077d6bfb0232",
   "metadata": {},
   "outputs": [],
   "source": []
  }
 ],
 "metadata": {
  "kernelspec": {
   "display_name": "Python 3 (ipykernel)",
   "language": "python",
   "name": "python3"
  },
  "language_info": {
   "codemirror_mode": {
    "name": "ipython",
    "version": 3
   },
   "file_extension": ".py",
   "mimetype": "text/x-python",
   "name": "python",
   "nbconvert_exporter": "python",
   "pygments_lexer": "ipython3",
   "version": "3.12.4"
  }
 },
 "nbformat": 4,
 "nbformat_minor": 5
}
